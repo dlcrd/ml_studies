{
 "cells": [
  {
   "cell_type": "markdown",
   "id": "14cf483b",
   "metadata": {},
   "source": [
    "# Decision Trees"
   ]
  },
  {
   "cell_type": "markdown",
   "id": "2f180b0c",
   "metadata": {},
   "source": [
    "#### How decision trees work?"
   ]
  },
  {
   "cell_type": "markdown",
   "id": "6b62af0d",
   "metadata": {},
   "source": [
    "The decision trees is a process of divide our data into categories until we reach groups with only one type of our dependent variable.\n",
    "Lets break this down, imagine that we are trying to categorize some individuals into people who like rock or people who doesn't.\n",
    "Is a tree because WE start with a great group (the whole data -all the participants), and the process is get one category, lets supose the gender of the participants, and divide the group between mens and not mens. Then we look at each group and see if each one have only people who like rock or not. If the groups still mixed, we divide again by other category aiming to get the more 'pure' group of people who like rock or not."
   ]
  },
  {
   "cell_type": "markdown",
   "id": "8ac2d2b7",
   "metadata": {},
   "source": [
    "### In the operational perspective"
   ]
  },
  {
   "cell_type": "markdown",
   "id": "b826fcff",
   "metadata": {},
   "source": [
    "1. The logic is clear, but how should i know which feature should i use to split the data?\n",
    "2. Assuming that i know the best feature to split, what is the best point to split, in a numeric column for example, what should be the threshold?\n",
    "3. If we couldnt find homogenous groups, when should we stop splitting?"
   ]
  },
  {
   "cell_type": "markdown",
   "id": "183f282a",
   "metadata": {},
   "source": [
    "##### Training Steps:\n",
    "Given the whole dataset:\n",
    "1. Calulate information gain wth each possible split\n",
    "2. Divide set with that feature and value that gives the most IG\n",
    "3. Divide tree and do the same for all created brances\n",
    "4. Do this until a stopping criteria is reached.\n",
    "\n",
    "##### Testing Steps:\n",
    "Given a datapoint:\n",
    "1. Follow the tree until you reach a leaf node\n",
    "2. Return the most common class label.\n",
    "\n",
    "Example, in the cenario i told before, if i splitted my participants first if they're men or not, then if they are democrats or not, and then if they have less than 35 years or not. If i need to discover if a Woman, Republican with 55 years is a rock lover, i'll follow the branchs by each criteria and return the most common label in this leaf (not-men(True) -> Democrate(False) -> less than 35 (False))."
   ]
  },
  {
   "cell_type": "markdown",
   "id": "4da6d399",
   "metadata": {},
   "source": [
    "#### Information Gain"
   ]
  },
  {
   "cell_type": "markdown",
   "id": "9db27e31",
   "metadata": {},
   "source": [
    "$$ Information Gain (IG) = E(parent) - [weigthed~average] * E(children) $$"
   ]
  },
  {
   "cell_type": "markdown",
   "id": "9a2a4d2e",
   "metadata": {},
   "source": [
    "##### What the hell is Entropy?"
   ]
  },
  {
   "cell_type": "markdown",
   "id": "945dc308",
   "metadata": {},
   "source": [
    "Entropy is almost the same as in phisics meaning the degree of desorder in the sistem. in This case goes between 0 to 1. Calculated as:\n",
    "$$ E = - \\sum p(X) \\cdot \\operatorname{log}_2 (p(X)) $$\n",
    "\n",
    "p(X) is the numer of times this class has occurred in this node divide by the total nodes."
   ]
  },
  {
   "cell_type": "markdown",
   "id": "fe15c1d9",
   "metadata": {},
   "source": [
    "#### Stopping Criteria : "
   ]
  },
  {
   "cell_type": "markdown",
   "id": "7144ae3d",
   "metadata": {},
   "source": [
    " - Maximum depth\n",
    " - Minumum number of samples in a node\n",
    " - Minimum impurity decrease"
   ]
  },
  {
   "cell_type": "markdown",
   "id": "8666fa48",
   "metadata": {},
   "source": [
    "### Testing the code\n"
   ]
  },
  {
   "cell_type": "code",
   "execution_count": 1,
   "id": "880c6c47",
   "metadata": {},
   "outputs": [],
   "source": [
    "from sklearn import datasets # type: ignore\n",
    "from sklearn.model_selection import train_test_split # type: ignore\n",
    "import numpy as np\n",
    "import pandas as pd\n",
    "from decision_trees import DecisionTree"
   ]
  },
  {
   "cell_type": "code",
   "execution_count": 2,
   "id": "82b35019",
   "metadata": {},
   "outputs": [],
   "source": [
    "data = datasets.load_wine()\n",
    "# Cria um DataFrame com as features\n",
    "X,y = data.data, data.target\n"
   ]
  },
  {
   "cell_type": "code",
   "execution_count": 3,
   "id": "6f789a41",
   "metadata": {},
   "outputs": [],
   "source": [
    "X_train, X_test, y_train, y_test = train_test_split(\n",
    "    X, y, test_size= .2, random_state= 42\n",
    ")"
   ]
  },
  {
   "cell_type": "code",
   "execution_count": null,
   "id": "4142dddd",
   "metadata": {},
   "outputs": [],
   "source": [
    "classifier = DecisionTree()\n",
    "classifier.fit(X_train,y_train)"
   ]
  },
  {
   "cell_type": "code",
   "execution_count": 5,
   "id": "c3eb97d5",
   "metadata": {},
   "outputs": [],
   "source": [
    "y_train_prediction = classifier.predict(X_train)\n",
    "y_test_prediction = classifier.predict(X_test)"
   ]
  },
  {
   "cell_type": "code",
   "execution_count": 6,
   "id": "3c06e0e5",
   "metadata": {},
   "outputs": [],
   "source": [
    "def accuracy(y_test, y_pred):\n",
    "    return np.sum(y_test == y_pred)/len(y_test)"
   ]
  },
  {
   "cell_type": "code",
   "execution_count": 7,
   "id": "e6ba5947",
   "metadata": {},
   "outputs": [
    {
     "name": "stdout",
     "output_type": "stream",
     "text": [
      "Accuracy : 0.92\n"
     ]
    }
   ],
   "source": [
    "acc = accuracy(y_test,y_test_prediction)\n",
    "print(f'Accuracy : {acc:.2f}')"
   ]
  },
  {
   "cell_type": "code",
   "execution_count": null,
   "id": "6b2d4934",
   "metadata": {},
   "outputs": [],
   "source": []
  }
 ],
 "metadata": {
  "kernelspec": {
   "display_name": "Python 3",
   "language": "python",
   "name": "python3"
  },
  "language_info": {
   "codemirror_mode": {
    "name": "ipython",
    "version": 3
   },
   "file_extension": ".py",
   "mimetype": "text/x-python",
   "name": "python",
   "nbconvert_exporter": "python",
   "pygments_lexer": "ipython3",
   "version": "3.12.10"
  }
 },
 "nbformat": 4,
 "nbformat_minor": 5
}
