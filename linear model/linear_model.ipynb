{
 "cells": [
  {
   "cell_type": "markdown",
   "id": "e926e257",
   "metadata": {},
   "source": [
    "### Linear model study"
   ]
  },
  {
   "cell_type": "markdown",
   "id": "28497aa8",
   "metadata": {},
   "source": [
    "### Concepts"
   ]
  },
  {
   "cell_type": "markdown",
   "id": "e7680281",
   "metadata": {},
   "source": [
    "##### linear estimation"
   ]
  },
  {
   "cell_type": "markdown",
   "id": "8bd75026",
   "metadata": {},
   "source": [
    "linear estimation : calculate the equation with linear variation of a set of independent variables who predict/estimate the dependent variable\n",
    "The linear equation is given by:\n",
    "\n",
    "$$\n",
    "\\hat{y} = mx + m_1x_1 + e\n",
    "$$\n",
    "\n",
    "where:\n",
    "- \\( y \\) is the dependent variable,  \n",
    "- \\( x \\) is the independent variable,  \n",
    "- \\( m \\) is the slope (rate of change),  \n",
    "- \\( b \\) is the y-intercept (value of \\( y \\) when \\( x = 0 \\)).\n",
    " and the m's can be multiples if there is more than one independent variable\n",
    "\n",
    " we do that by optimizing the Mean Squared Errors wich can be written as:\n",
    " 1. $$MSE = J(w, b) = \\frac{1}{N} \\sum_{i=1}^{n} \\left( y_i - (w x_i + b) \\right)^2$$\n",
    " 2. $$MSE = \\frac{1}{n} \\sum_{i=1}^{n} (y_i - \\hat{y}_i)^2$$\n",
    " 3. $$MSE = \\frac{1}{n} \\| \\mathbf{y} - \\hat{\\mathbf{y}} \\|^2$$\n",
    "\n",
    "\n"
   ]
  },
  {
   "cell_type": "markdown",
   "id": "4896bc1a",
   "metadata": {},
   "source": [
    "##### Gradient Descent "
   ]
  },
  {
   "cell_type": "markdown",
   "id": "b0099fb6",
   "metadata": {},
   "source": [
    "Technique wich given a parameter value (beta_1 or in this examples \"w\"), we calculate wich direction we should move the parameter given the derivatives of the point until we reach de global minimum value of the error function explained by the parameter. This should minimize the MSE of the function. \n",
    "\n",
    "To reach this, we calculate the value of the error function in the initial value of the parameter and multiply it with a **learning rate**. Then, we subtract from the weight or the bias. This will give us the new parameter, and we do it until the derivative value is equal to zero.\n",
    "\n",
    "the **learning rate** tell the model how fast or slow the variation of the parameter is happening, it can me really fast and get to the point with risk of jump the Global cost minimum point or  can be very slow and be more presice with a time and process cost.\n",
    "<p align=\"center\">\n",
    "<img src=\"gradient_descendent.png\" alt=\"Gradient Descendent\" width=\"420\"/>\n",
    "</p>\n",
    "\n",
    "Function cost:\n",
    "$$\n",
    "J(\\mathbf{w}, b) = \\frac{1}{n} \\left\\| X\\mathbf{w} + b - \\mathbf{y} \\right\\|^2\n",
    "$$\n",
    "\n",
    "Gradient in relation to w\n",
    "$$\n",
    "\\nabla_{\\mathbf{w}} J = \\frac{2}{n} X^\\top (X\\mathbf{w} + b - \\mathbf{y})\n",
    "$$\n",
    "Gradient in relation to b:\n",
    "$$\n",
    "\\nabla_{b} J = \\frac{2}{n} \\sum_{i=1}^{n} \\left[(X\\mathbf{w} + b - \\mathbf{y})_i\\right]\n",
    "$$\n"
   ]
  },
  {
   "cell_type": "markdown",
   "id": "8c6d1463",
   "metadata": {},
   "source": [
    "##### Steps to implement:"
   ]
  },
  {
   "cell_type": "markdown",
   "id": "3a09bcc5",
   "metadata": {},
   "source": [
    "- Training:\n",
    "  - Initialize weights as zero  \n",
    "  - Initialize bias as zero  \n",
    "\n",
    "- Given a data point:  \n",
    "  - Predict result by using \\( f(x) = wx + b \\)  \n",
    "  - Calculate error  \n",
    "  - Use gradient descent to figure out new weight and bias  \n",
    "  - Repeat *n* times  "
   ]
  },
  {
   "cell_type": "markdown",
   "id": "64cd52cc",
   "metadata": {},
   "source": [
    "### Implementation"
   ]
  },
  {
   "cell_type": "markdown",
   "id": "28bf6796",
   "metadata": {},
   "source": [
    "###### Preparing the data"
   ]
  },
  {
   "cell_type": "code",
   "execution_count": 2,
   "id": "a97ae08e",
   "metadata": {},
   "outputs": [],
   "source": [
    "import pandas as pd\n",
    "import numpy as np"
   ]
  },
  {
   "cell_type": "code",
   "execution_count": 3,
   "id": "c371fdce",
   "metadata": {},
   "outputs": [],
   "source": [
    "\n",
    "path = r\"C:\\Users\\diego\\OneDrive\\Área de Trabalho\\Estudo\\DAdos\\git\\ml_studies\\linear model\\data\\Enhanced_pizza_sell_data_2024-25.xlsx\"\n",
    "data = pd.read_excel(path)"
   ]
  },
  {
   "cell_type": "code",
   "execution_count": 4,
   "id": "63e4b0d6",
   "metadata": {},
   "outputs": [],
   "source": [
    "df = data.copy()"
   ]
  },
  {
   "cell_type": "code",
   "execution_count": 5,
   "id": "f5f57678",
   "metadata": {},
   "outputs": [],
   "source": [
    "# Linear Regressor\n",
    "class LinearRegressor:\n",
    "    def __init__(self, learning_r = .01, max_interations = 1200, tolerance = 1e-6 ):\n",
    "        self.learning_r = learning_r # parameter\n",
    "        self.max_interations = max_interations # parameter\n",
    "        self.tolerance = tolerance # parameter\n",
    "        self.weights = 0 # initializing the erros\n",
    "        self.bias = None # Initializing the bias\n",
    "        self.cost_history = []\n",
    "        \n",
    "    def _add_bias_column(self,X):\n",
    "        return np.column_stack(np.ones(X.shape[0],X))\n",
    "    \n",
    "    def mse_cost(self,X,y,weights,bias):\n",
    "        n = X.shape[0]\n",
    "        \n",
    "        #Linear prediction\n",
    "        predictions = X @ weights + bias\n",
    "        \n",
    "        #MSE\n",
    "        cost = (1/(2*n)) * np.sum((predictions-y) ** 2)\n",
    "        return cost\n",
    "    def compute_gradients(self,X, y, weights, bias):\n",
    "        n = X.shape[0]\n",
    "        predictions = X @ weights + bias\n",
    "        error = predictions - y\n",
    "        grad_w = (2/n) * X.T @ error   # Gradiente corrigido (fator 2)\n",
    "        grad_b = (2/n) * np.sum(error) # Gradiente corrigido (fator 2)\n",
    "        return grad_w, grad_b\n",
    "        \n",
    "        return grad_w,grad_b\n",
    "    \n",
    "    def fit(self,X,y):\n",
    "        n_samples,n_features = X.shape\n",
    "        \n",
    "        # Initialize parameters\n",
    "        self.weights = np.random.normal(0,0.01,n_features)\n",
    "        self.bias = 0.0\n",
    "        \n",
    "        self.cost_history = []\n",
    "        \n",
    "        for i in range(self.max_interations):\n",
    "            # Current cost -> gradients -> update parameters -> check convergence -> if converge, break\n",
    "            current_cost = self.mse_cost(X,y,self.weights,self.bias)\n",
    "            self.cost_history.append(current_cost)\n",
    "            \n",
    "            # gradients\n",
    "            grad_w,grad_b = self.compute_gradients(X,y,self.weights,self.bias)\n",
    "            # update parameters\n",
    "            new_weights = self.weights - self.learning_r * grad_w\n",
    "            new_bias = self.bias - self.learning_r * grad_b\n",
    "            \n",
    "            # check convergence:\n",
    "            if i>0:\n",
    "                cost_change = abs(self.cost_history[-2] - current_cost) \n",
    "                if cost_change < self.tolerance:\n",
    "                    print(f\"Converge after {i+1} iterations\")\n",
    "                    break\n",
    "            self.weights = new_weights\n",
    "            self.bias = new_bias\n",
    "                \n",
    "    def prediction(self,X):\n",
    "        return X @ self.weights + self.bias\n",
    "    \n",
    "    def r_score(self,X,y):\n",
    "        predictions = self.prediction(X)\n",
    "        ss_res = np.sum((y-predictions)**2) # dif y prediction squared\n",
    "        ss_tot = np.sum((y-np.mean(y)) **2) # dif y mean squared\n",
    "        return 1 - (ss_res/ss_tot) # R^2\n",
    "    "
   ]
  },
  {
   "cell_type": "code",
   "execution_count": 6,
   "id": "144b56c0",
   "metadata": {},
   "outputs": [],
   "source": [
    "from sklearn.preprocessing import OneHotEncoder\n",
    "\n",
    "# Colunas categóricas para one-hot encoding\n",
    "categorical_cols = [\"Pizza Size\", \"Traffic Level\", \"Payment Method\"]\n",
    "\n",
    "# Aplicar OneHotEncoder\n",
    "encoder = OneHotEncoder(drop=\"first\", sparse_output=False)  # Definir sparse_output=False para evitar matriz esparsa\n",
    "encoded_data = encoder.fit_transform(df[categorical_cols])  # Já retorna um array denso\n",
    "encoded_df = pd.DataFrame(encoded_data, columns=encoder.get_feature_names_out(categorical_cols))\n",
    "\n",
    "# Selecionar colunas numéricas e booleanas\n",
    "numeric_cols = df.select_dtypes(include=[\"int64\", \"float64\", \"bool\"]).columns\n",
    "final_df = pd.concat([df[numeric_cols], encoded_df], axis=1)\n",
    "\n",
    "# Converter booleanos para 0 e 1\n",
    "final_df = final_df.astype({\"Is Peak Hour\": int, \"Is Weekend\": int, \"Is Delayed\": int})"
   ]
  },
  {
   "cell_type": "markdown",
   "id": "6c11c32d",
   "metadata": {},
   "source": [
    "Question : Higher traffic level leads to more pizza orders?"
   ]
  },
  {
   "cell_type": "code",
   "execution_count": 7,
   "id": "ab8aea22",
   "metadata": {},
   "outputs": [
    {
     "data": {
      "text/html": [
       "<div>\n",
       "<style scoped>\n",
       "    .dataframe tbody tr th:only-of-type {\n",
       "        vertical-align: middle;\n",
       "    }\n",
       "\n",
       "    .dataframe tbody tr th {\n",
       "        vertical-align: top;\n",
       "    }\n",
       "\n",
       "    .dataframe thead th {\n",
       "        text-align: right;\n",
       "    }\n",
       "</style>\n",
       "<table border=\"1\" class=\"dataframe\">\n",
       "  <thead>\n",
       "    <tr style=\"text-align: right;\">\n",
       "      <th></th>\n",
       "      <th>Delivery Duration (min)</th>\n",
       "      <th>Toppings Count</th>\n",
       "      <th>Distance (km)</th>\n",
       "      <th>Is Peak Hour</th>\n",
       "      <th>Is Weekend</th>\n",
       "      <th>Delivery Efficiency (min/km)</th>\n",
       "      <th>Topping Density</th>\n",
       "      <th>Estimated Duration (min)</th>\n",
       "      <th>Delay (min)</th>\n",
       "      <th>Is Delayed</th>\n",
       "      <th>...</th>\n",
       "      <th>Pizza Size_Medium</th>\n",
       "      <th>Pizza Size_Small</th>\n",
       "      <th>Pizza Size_XL</th>\n",
       "      <th>Traffic Level_Low</th>\n",
       "      <th>Traffic Level_Medium</th>\n",
       "      <th>Payment Method_Cash</th>\n",
       "      <th>Payment Method_Domino's Cash</th>\n",
       "      <th>Payment Method_Hut Points</th>\n",
       "      <th>Payment Method_UPI</th>\n",
       "      <th>Payment Method_Wallet</th>\n",
       "    </tr>\n",
       "  </thead>\n",
       "  <tbody>\n",
       "    <tr>\n",
       "      <th>0</th>\n",
       "      <td>15</td>\n",
       "      <td>3</td>\n",
       "      <td>2.5</td>\n",
       "      <td>1</td>\n",
       "      <td>0</td>\n",
       "      <td>6.0</td>\n",
       "      <td>1.2</td>\n",
       "      <td>6.0</td>\n",
       "      <td>9.0</td>\n",
       "      <td>0</td>\n",
       "      <td>...</td>\n",
       "      <td>1.0</td>\n",
       "      <td>0.0</td>\n",
       "      <td>0.0</td>\n",
       "      <td>0.0</td>\n",
       "      <td>1.0</td>\n",
       "      <td>0.0</td>\n",
       "      <td>0.0</td>\n",
       "      <td>0.0</td>\n",
       "      <td>0.0</td>\n",
       "      <td>0.0</td>\n",
       "    </tr>\n",
       "    <tr>\n",
       "      <th>1</th>\n",
       "      <td>25</td>\n",
       "      <td>4</td>\n",
       "      <td>5.0</td>\n",
       "      <td>1</td>\n",
       "      <td>0</td>\n",
       "      <td>5.0</td>\n",
       "      <td>0.8</td>\n",
       "      <td>12.0</td>\n",
       "      <td>13.0</td>\n",
       "      <td>0</td>\n",
       "      <td>...</td>\n",
       "      <td>0.0</td>\n",
       "      <td>0.0</td>\n",
       "      <td>0.0</td>\n",
       "      <td>0.0</td>\n",
       "      <td>0.0</td>\n",
       "      <td>0.0</td>\n",
       "      <td>0.0</td>\n",
       "      <td>0.0</td>\n",
       "      <td>0.0</td>\n",
       "      <td>1.0</td>\n",
       "    </tr>\n",
       "  </tbody>\n",
       "</table>\n",
       "<p>2 rows × 24 columns</p>\n",
       "</div>"
      ],
      "text/plain": [
       "   Delivery Duration (min)  Toppings Count  Distance (km)  Is Peak Hour  \\\n",
       "0                       15               3            2.5             1   \n",
       "1                       25               4            5.0             1   \n",
       "\n",
       "   Is Weekend  Delivery Efficiency (min/km)  Topping Density  \\\n",
       "0           0                           6.0              1.2   \n",
       "1           0                           5.0              0.8   \n",
       "\n",
       "   Estimated Duration (min)  Delay (min)  Is Delayed  ...  Pizza Size_Medium  \\\n",
       "0                       6.0          9.0           0  ...                1.0   \n",
       "1                      12.0         13.0           0  ...                0.0   \n",
       "\n",
       "   Pizza Size_Small  Pizza Size_XL  Traffic Level_Low  Traffic Level_Medium  \\\n",
       "0               0.0            0.0                0.0                   1.0   \n",
       "1               0.0            0.0                0.0                   0.0   \n",
       "\n",
       "   Payment Method_Cash  Payment Method_Domino's Cash  \\\n",
       "0                  0.0                           0.0   \n",
       "1                  0.0                           0.0   \n",
       "\n",
       "   Payment Method_Hut Points  Payment Method_UPI  Payment Method_Wallet  \n",
       "0                        0.0                 0.0                    0.0  \n",
       "1                        0.0                 0.0                    1.0  \n",
       "\n",
       "[2 rows x 24 columns]"
      ]
     },
     "execution_count": 7,
     "metadata": {},
     "output_type": "execute_result"
    }
   ],
   "source": [
    "final_df.head(2)"
   ]
  },
  {
   "cell_type": "code",
   "execution_count": 8,
   "id": "98a7604d",
   "metadata": {},
   "outputs": [],
   "source": [
    "y = final_df['Delay (min)']\n",
    "X = final_df.drop(columns = ['Delay (min)'])"
   ]
  },
  {
   "cell_type": "code",
   "execution_count": 9,
   "id": "ab6267e6",
   "metadata": {},
   "outputs": [
    {
     "data": {
      "text/plain": [
       "<Axes: >"
      ]
     },
     "execution_count": 9,
     "metadata": {},
     "output_type": "execute_result"
    },
    {
     "data": {
      "image/png": "[encoded data removed]",
      "text/plain": [
       "<Figure size 640x480 with 1 Axes>"
      ]
     },
     "metadata": {},
     "output_type": "display_data"
    }
   ],
   "source": [
    "from sklearn.ensemble import RandomForestRegressor  \n",
    "model = RandomForestRegressor().fit(X, y)  \n",
    "feature_importance = pd.Series(model.feature_importances_, index=X.columns)  \n",
    "feature_importance = feature_importance.sort_values(ascending = False)\n",
    "choices = feature_importance[2:]\n",
    "choices = choices[:6]\n",
    "choices.plot.bar()"
   ]
  },
  {
   "cell_type": "code",
   "execution_count": 10,
   "id": "4a86a4d6",
   "metadata": {},
   "outputs": [
    {
     "data": {
      "text/plain": [
       "Index(['Pizza Complexity', 'Delivery Efficiency (min/km)', 'Distance (km)',\n",
       "       'Estimated Duration (min)', 'Topping Density', 'Order Hour'],\n",
       "      dtype='object')"
      ]
     },
     "execution_count": 10,
     "metadata": {},
     "output_type": "execute_result"
    }
   ],
   "source": [
    "choices.index"
   ]
  },
  {
   "cell_type": "code",
   "execution_count": 11,
   "id": "48eac61e",
   "metadata": {},
   "outputs": [],
   "source": [
    "# X = final_df[['Pizza Complexity','Traffic Impact',\"Is Weekend\",\"Distance (km)\",\"Is Peak Hour\"]]\n",
    "X = final_df.loc[:,choices.index]"
   ]
  },
  {
   "cell_type": "markdown",
   "id": "9d4b720a",
   "metadata": {},
   "source": [
    "###### Creating the linear regression class"
   ]
  },
  {
   "cell_type": "code",
   "execution_count": 12,
   "id": "8aec400c",
   "metadata": {},
   "outputs": [
    {
     "name": "stdout",
     "output_type": "stream",
     "text": [
      "<class 'pandas.core.frame.DataFrame'>\n",
      "RangeIndex: 1004 entries, 0 to 1003\n",
      "Data columns (total 6 columns):\n",
      " #   Column                        Non-Null Count  Dtype  \n",
      "---  ------                        --------------  -----  \n",
      " 0   Pizza Complexity              1004 non-null   int64  \n",
      " 1   Delivery Efficiency (min/km)  1004 non-null   float64\n",
      " 2   Distance (km)                 1004 non-null   float64\n",
      " 3   Estimated Duration (min)      1004 non-null   float64\n",
      " 4   Topping Density               1004 non-null   float64\n",
      " 5   Order Hour                    1004 non-null   int64  \n",
      "dtypes: float64(4), int64(2)\n",
      "memory usage: 47.2 KB\n"
     ]
    }
   ],
   "source": [
    "X.info()"
   ]
  },
  {
   "cell_type": "code",
   "execution_count": 13,
   "id": "a624e6fe",
   "metadata": {},
   "outputs": [],
   "source": [
    "from sklearn.model_selection import train_test_split\n",
    "from sklearn.preprocessing import StandardScaler"
   ]
  },
  {
   "cell_type": "code",
   "execution_count": 14,
   "id": "f3e88e6e",
   "metadata": {},
   "outputs": [],
   "source": [
    "X_train, X_test, y_train, y_test = train_test_split(X, y, test_size=0.2, random_state=42)"
   ]
  },
  {
   "cell_type": "code",
   "execution_count": 15,
   "id": "56e69a7f",
   "metadata": {},
   "outputs": [],
   "source": [
    "scaler = StandardScaler()\n",
    "X_train_scaled = scaler.fit_transform(X_train)"
   ]
  },
  {
   "cell_type": "code",
   "execution_count": 16,
   "id": "48104d3c",
   "metadata": {},
   "outputs": [],
   "source": [
    "X_test_scaled = scaler.fit_transform(X_test)"
   ]
  },
  {
   "cell_type": "code",
   "execution_count": 17,
   "id": "608a3750",
   "metadata": {},
   "outputs": [],
   "source": [
    "model = LinearRegressor(learning_r = 0.01)"
   ]
  },
  {
   "cell_type": "code",
   "execution_count": 18,
   "id": "2cd185e6",
   "metadata": {},
   "outputs": [
    {
     "name": "stdout",
     "output_type": "stream",
     "text": [
      "Converge after 994 iterations\n"
     ]
    }
   ],
   "source": [
    "model.fit(X_train_scaled,y_train)"
   ]
  },
  {
   "cell_type": "code",
   "execution_count": 19,
   "id": "d8a6e33e",
   "metadata": {},
   "outputs": [],
   "source": [
    "# make predictions\n",
    "train_predictions = model.prediction(X_train_scaled)\n",
    "test_predictions = model.prediction(X_test_scaled)"
   ]
  },
  {
   "cell_type": "code",
   "execution_count": 20,
   "id": "246b4c4f",
   "metadata": {},
   "outputs": [],
   "source": [
    "# Scores:\n",
    "train_scores = model.r_score(X_train_scaled, y_train)\n",
    "test_scores = model.r_score(X_test_scaled, y_test)"
   ]
  },
  {
   "cell_type": "code",
   "execution_count": 21,
   "id": "377f0827",
   "metadata": {},
   "outputs": [
    {
     "name": "stdout",
     "output_type": "stream",
     "text": [
      "R-Squared Train :0.81\n",
      "R-Squared Test:0.82\n"
     ]
    }
   ],
   "source": [
    "print(f'R-Squared Train :{train_scores:.2f}')\n",
    "print(f'R-Squared Test:{test_scores:.2f}')"
   ]
  },
  {
   "cell_type": "code",
   "execution_count": 22,
   "id": "3540ef0b",
   "metadata": {},
   "outputs": [],
   "source": [
    "import matplotlib.pyplot as plt\n",
    "import seaborn as sns\n",
    "\n",
    "# Configurar estilo\n",
    "sns.set_style(\"whitegrid\")\n",
    "plt.rcParams['figure.figsize'] = (15, 10)"
   ]
  },
  {
   "cell_type": "code",
   "execution_count": 23,
   "id": "cb1bde71",
   "metadata": {},
   "outputs": [
    {
     "data": {
      "text/plain": [
       "<matplotlib.legend.Legend at 0x2a57a330140>"
      ]
     },
     "execution_count": 23,
     "metadata": {},
     "output_type": "execute_result"
    },
    {
     "data": {
      "image/png": "[encoded data removed]",
      "text/plain": [
       "<Figure size 1200x800 with 2 Axes>"
      ]
     },
     "metadata": {},
     "output_type": "display_data"
    }
   ],
   "source": [
    "\n",
    "\"\"\"Histogramas sobrepostos com transparência\"\"\"\n",
    "plt.figure(figsize=(12, 8))\n",
    "\n",
    "# Plot 1: Histogramas sobrepostos\n",
    "plt.subplot(2, 2, 1)\n",
    "sns.histplot(y_train, alpha=0.7, label='y_train (real)', color='blue', kde=True)\n",
    "sns.histplot(train_predictions, alpha=0.7, label='train_predictions', color='red', kde=True)\n",
    "sns.histplot(test_predictions, alpha=0.7, label='test_predictions', color='green', kde=True)\n",
    "plt.title('Histogramas Sobrepostos')\n",
    "plt.xlabel('Valores')\n",
    "plt.ylabel('Frequência')\n",
    "plt.legend()\n",
    "\n",
    "# Plot 2: Apenas KDE (mais limpo)\n",
    "plt.subplot(2, 2, 2)\n",
    "sns.kdeplot(y_train, label='y_train (real)', color='blue', linewidth=2)\n",
    "sns.kdeplot(train_predictions, label='train_predictions', color='red', linewidth=2)\n",
    "sns.kdeplot(test_predictions, label='test_predictions', color='green', linewidth=2)\n",
    "plt.title('Densidade (KDE) - Mais Limpo')\n",
    "plt.xlabel('Valores')\n",
    "plt.ylabel('Densidade')\n",
    "plt.legend()\n",
    "\n",
    "\n",
    "\n",
    "    "
   ]
  },
  {
   "cell_type": "markdown",
   "id": "e73bd301",
   "metadata": {},
   "source": [
    "#### Possíveis melhorias"
   ]
  },
  {
   "cell_type": "markdown",
   "id": "7ceb5f95",
   "metadata": {},
   "source": [
    "### as predições estão senfo mais frequentes no centro da distribuição do que os dados reais. \n",
    "Em termos de negócios, o modelo vai indicar que há mais pedidos com atraso de aproximadamente 16 a 19 minutos do que a realidade. Quando o atraso real é menor que o previsto, não há problemas, a diferença é pouca. Em contrapartida quando o atraso é maior que isso pode gerar desconforto nos clientes que esperavam atrasar em X minutos porém tiveram que esperar mais do que isso.\n",
    "\n",
    "#### Possíveis soluções:\n",
    "- Testar com um modelo do tipo forest, dado que não assume relação linear entre as variáveis, ele pode ser mais certeiro nesse caso.\n",
    "- Realizar técnicas de Cross-Validation  : Base de dados é pequena, logo, usar o cross validation pode tirar melhor proveito dos dados.\n",
    "- Utilizar uma modelagem de resíduos a partir das predições e utiliza-lo pra corrigir a predição.\n",
    "\n",
    "### Objetivo de praticar regressão linear:\n",
    "Entendo que o objetivo foi cumprido. Consegui reviver a noção de implementação do Gradiente Descendente e correlacionar isso com a estatística matricial de cálculo de regressão linear onde\n",
    "$$\n",
    "\\boldsymbol{\\beta} = (\\mathbf{X}^\\top \\mathbf{X})^{-1} \\mathbf{X}^\\top \\mathbf{y}\n",
    "$$\n",
    "\n",
    "A diferença é que com o gradiente descentende focamos em reduzir o erro entre a curva de regressão e os dados reais através do Gradinte Descendente por um processo iterativo, enquanto no cálculo que aprendi na faculdade focamos em reduzir o erro via processo de otimização ( Derivar a fórmula do erro do estimador e igualar a zero).\n",
    "Entendo que eles tem cálculos bem parecidos com objetivos diferentes, o primeiro busca acertar o *y* enquanto o segundo busca acertar o *betha*.\n"
   ]
  }
 ],
 "metadata": {
  "kernelspec": {
   "display_name": "Python 3",
   "language": "python",
   "name": "python3"
  },
  "language_info": {
   "codemirror_mode": {
    "name": "ipython",
    "version": 3
   },
   "file_extension": ".py",
   "mimetype": "text/x-python",
   "name": "python",
   "nbconvert_exporter": "python",
   "pygments_lexer": "ipython3",
   "version": "3.12.10"
  }
 },
 "nbformat": 4,
 "nbformat_minor": 5
}
